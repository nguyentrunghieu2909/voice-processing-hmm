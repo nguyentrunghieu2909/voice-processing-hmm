{
 "cells": [
  {
   "cell_type": "code",
   "execution_count": 9,
   "metadata": {},
   "outputs": [],
   "source": [
    "import librosa\n",
    "import numpy as np\n",
    "import os\n",
    "import math\n",
    "from sklearn.cluster import KMeans\n",
    "import hmmlearn.hmm\n",
    "import pickle"
   ]
  },
  {
   "cell_type": "code",
   "execution_count": 10,
   "metadata": {},
   "outputs": [],
   "source": [
    "models = pickle.load(open('hmm_models.sav', 'rb'))\n",
    "kmeans = pickle.load(open('kmeans.sav', 'rb'))"
   ]
  },
  {
   "cell_type": "code",
   "execution_count": 13,
   "metadata": {},
   "outputs": [],
   "source": [
    "# read file\n",
    "def get_mfcc(file_path):\n",
    "    y, sr = librosa.load(file_path) # read .wav file\n",
    "    hop_length = math.floor(sr*0.010) # 10ms hop\n",
    "    win_length = math.floor(sr*0.025) # 25ms frame\n",
    "    # mfcc is 12 x T matrix\n",
    "    mfcc = librosa.feature.mfcc(\n",
    "        y, sr, n_mfcc=12, n_fft=1024,\n",
    "        hop_length=hop_length, win_length=win_length)\n",
    "    # substract mean from mfcc --> normalize mfcc\n",
    "    mfcc = mfcc - np.mean(mfcc, axis=1).reshape((-1,1)) \n",
    "    # delta feature 1st order and 2nd order\n",
    "    delta1 = librosa.feature.delta(mfcc, order=1)\n",
    "    delta2 = librosa.feature.delta(mfcc, order=2)\n",
    "    # X is 36 x T\n",
    "    X = np.concatenate([mfcc, delta1, delta2], axis=0) # O^r\n",
    "    # return T x 36 (transpose of X)\n",
    "    return X.T # hmmlearn use T x N matrix"
   ]
  },
  {
   "cell_type": "code",
   "execution_count": 11,
   "metadata": {},
   "outputs": [],
   "source": [
    "# lấy mfcc của tất cả các file wav trong wav\n",
    "def get_class_data(data_dir):\n",
    "    files = os.listdir(data_dir)\n",
    "    mfcc = [get_mfcc(os.path.join(data_dir,f)) for f in files if f.endswith(\".wav\")]\n",
    "    return mfcc"
   ]
  },
  {
   "cell_type": "code",
   "execution_count": 15,
   "metadata": {},
   "outputs": [
    {
     "name": "stdout",
     "output_type": "stream",
     "text": [
      "Load bệnh nhân test\n",
      "Load chúng ta test\n",
      "Load có thể test\n",
      "Load người test\n",
      "Load Việt Nam test\n"
     ]
    }
   ],
   "source": [
    "testset1 = {}\n",
    "n_test1 = {}\n",
    "class_names = ['bệnh nhân', 'chúng ta', 'có thể', 'người','Việt Nam']\n",
    "for cname in class_names:\n",
    "    print(f\"Load {cname} test\")\n",
    "    testset1[cname] = get_class_data(os.path.join('test',cname+'_test'))\n",
    "    n_test1[cname] = len(testset1[cname])"
   ]
  },
  {
   "cell_type": "code",
   "execution_count": 16,
   "metadata": {},
   "outputs": [],
   "source": [
    "for cname in class_names:\n",
    "    testset1[cname] = list([kmeans.predict(v).reshape(-1, 1) for v in testset1[cname]])"
   ]
  },
  {
   "cell_type": "code",
   "execution_count": 17,
   "metadata": {
    "scrolled": true
   },
   "outputs": [
    {
     "name": "stdout",
     "output_type": "stream",
     "text": [
      "Testing\n",
      "bệnh nhân {'bệnh nhân': -85.01895072882863, 'chúng ta': -116.89227689303209, 'có thể': -145.5429951589105, 'người': -79.12924074435324, 'Việt Nam': -105.07484469037391} predict: người\n",
      "bệnh nhân {'bệnh nhân': -68.56648775916136, 'chúng ta': -135.8658249915291, 'có thể': -145.92926637729198, 'người': -109.12223911501658, 'Việt Nam': -130.38131951425976} predict: bệnh nhân\n",
      "bệnh nhân {'bệnh nhân': -57.163946179657664, 'chúng ta': -184.1771335088101, 'có thể': -126.65149206275542, 'người': -80.46311942385488, 'Việt Nam': -76.78814830780043} predict: bệnh nhân\n",
      "bệnh nhân {'bệnh nhân': -80.41844963773977, 'chúng ta': -185.13929588212147, 'có thể': -146.46293056268, 'người': -112.6877792505747, 'Việt Nam': -190.7548103572772} predict: bệnh nhân\n",
      "bệnh nhân {'bệnh nhân': -64.49725977557267, 'chúng ta': -132.75405520685666, 'có thể': -103.81233439400432, 'người': -167.05841916754355, 'Việt Nam': -85.70916966073456} predict: bệnh nhân\n",
      "chúng ta {'bệnh nhân': -1613.4628264667938, 'chúng ta': -101.14681425938991, 'có thể': -368.6017755413556, 'người': -998.2371610264595, 'Việt Nam': -133.6485362687141} predict: chúng ta\n",
      "chúng ta {'bệnh nhân': -inf, 'chúng ta': -107.51496131847453, 'có thể': -209.44317731456542, 'người': -938.0824795533641, 'Việt Nam': -145.80219491653614} predict: chúng ta\n",
      "chúng ta {'bệnh nhân': -inf, 'chúng ta': -94.52911781580906, 'có thể': -928.8191414191452, 'người': -2304.6265165301893, 'Việt Nam': -inf} predict: chúng ta\n",
      "chúng ta {'bệnh nhân': -inf, 'chúng ta': -81.47947865616936, 'có thể': -742.2794904440495, 'người': -inf, 'Việt Nam': -124.37891894591185} predict: chúng ta\n",
      "chúng ta {'bệnh nhân': -142.5106919180137, 'chúng ta': -110.44865949525378, 'có thể': -149.5538526012349, 'người': -89.90571706412797, 'Việt Nam': -76.09823073685915} predict: Việt Nam\n",
      "chúng ta {'bệnh nhân': -811.3386113729824, 'chúng ta': -74.75825902260807, 'có thể': -335.8483534108339, 'người': -576.536868700971, 'Việt Nam': -81.01965161880135} predict: chúng ta\n",
      "có thể {'bệnh nhân': -121.52078253056298, 'chúng ta': -143.35761454323358, 'có thể': -74.90883491111967, 'người': -82.8813109723058, 'Việt Nam': -146.35000522476176} predict: có thể\n",
      "có thể {'bệnh nhân': -116.16963641201916, 'chúng ta': -154.4892784448596, 'có thể': -70.06536856084038, 'người': -307.20661423527304, 'Việt Nam': -162.60321545512403} predict: có thể\n",
      "có thể {'bệnh nhân': -236.82613384077143, 'chúng ta': -161.20628491691613, 'có thể': -167.86593374750706, 'người': -359.27502537868435, 'Việt Nam': -191.03399148224347} predict: chúng ta\n",
      "có thể {'bệnh nhân': -143.7425581445494, 'chúng ta': -150.36333372352624, 'có thể': -104.24153337625977, 'người': -222.53079198069352, 'Việt Nam': -138.60807897733727} predict: có thể\n",
      "có thể {'bệnh nhân': -141.27666618543992, 'chúng ta': -144.26145968789103, 'có thể': -74.51936465619423, 'người': -447.63171780192977, 'Việt Nam': -inf} predict: có thể\n",
      "người {'bệnh nhân': -61.583138226246156, 'chúng ta': -79.87184843283995, 'có thể': -64.51967933107416, 'người': -40.7242732433805, 'Việt Nam': -74.64342747669227} predict: người\n",
      "người {'bệnh nhân': -59.139469484051865, 'chúng ta': -85.304903688283, 'có thể': -84.74730199707874, 'người': -50.21803634311244, 'Việt Nam': -70.03275290977874} predict: người\n",
      "người {'bệnh nhân': -52.75063675412559, 'chúng ta': -88.57903399119039, 'có thể': -77.1027847627851, 'người': -52.32567839701824, 'Việt Nam': -67.26274053443942} predict: người\n",
      "người {'bệnh nhân': -103.27033029080148, 'chúng ta': -108.76909663224961, 'có thể': -114.40241880220502, 'người': -74.0111130267182, 'Việt Nam': -132.08046603273925} predict: người\n",
      "người {'bệnh nhân': -86.56099077301425, 'chúng ta': -76.54668923677626, 'có thể': -122.17112604799075, 'người': -60.17205455815225, 'Việt Nam': -78.9236570920565} predict: người\n",
      "Việt Nam {'bệnh nhân': -99.58224226889607, 'chúng ta': -169.20363018462393, 'có thể': -146.3295742468155, 'người': -196.72448468817961, 'Việt Nam': -94.81694618134027} predict: Việt Nam\n",
      "Việt Nam {'bệnh nhân': -85.8627223962134, 'chúng ta': -156.63869121235015, 'có thể': -136.0100120222951, 'người': -179.89766928921946, 'Việt Nam': -60.923001477766995} predict: Việt Nam\n",
      "Việt Nam {'bệnh nhân': -82.95535884263604, 'chúng ta': -130.42709534825084, 'có thể': -185.69712015960386, 'người': -158.83109148654333, 'Việt Nam': -66.53116244126251} predict: Việt Nam\n",
      "Việt Nam {'bệnh nhân': -78.07313503093611, 'chúng ta': -110.17587262847084, 'có thể': -118.00458009675867, 'người': -79.10929464246033, 'Việt Nam': -72.00823380758712} predict: Việt Nam\n",
      "Việt Nam {'bệnh nhân': -101.31610861675775, 'chúng ta': -165.60520454932362, 'có thể': -160.5143882172043, 'người': -163.77865460975516, 'Việt Nam': -75.82211935908882} predict: Việt Nam\n",
      "Việt Nam {'bệnh nhân': -103.4050642086066, 'chúng ta': -146.16151168604637, 'có thể': -186.0077789463118, 'người': -184.37869905139155, 'Việt Nam': -89.31593114161697} predict: Việt Nam\n"
     ]
    }
   ],
   "source": [
    "print(\"Testing\")\n",
    "n_correct1 = {'bệnh nhân': 0, 'chúng ta': 0, 'có thể': 0, 'người': 0,'Việt Nam': 0}\n",
    "for true_cname in class_names:\n",
    "    for O in testset1[true_cname]:\n",
    "        score = {cname: model.score(O, [len(O)]) for cname, model in models.items()}\n",
    "        if (true_cname == max(score, key=score.get)): n_correct1[true_cname] += 1\n",
    "        print(true_cname, score, 'predict:', max(score, key=score.get))"
   ]
  },
  {
   "cell_type": "code",
   "execution_count": 18,
   "metadata": {},
   "outputs": [
    {
     "name": "stdout",
     "output_type": "stream",
     "text": [
      "Accuracy: bệnh nhân 0.8\n",
      "Accuracy: chúng ta 0.8333333333333334\n",
      "Accuracy: có thể 0.8\n",
      "Accuracy: người 1.0\n",
      "Accuracy: Việt Nam 1.0\n"
     ]
    }
   ],
   "source": [
    "for cname in class_names:\n",
    "    print('Accuracy:', cname, n_correct1[cname]/n_test1[cname])"
   ]
  },
  {
   "cell_type": "code",
   "execution_count": 19,
   "metadata": {},
   "outputs": [
    {
     "name": "stdout",
     "output_type": "stream",
     "text": [
      "{'bệnh nhân': 5, 'chúng ta': 6, 'có thể': 5, 'người': 5, 'Việt Nam': 6}\n"
     ]
    }
   ],
   "source": [
    "print(n_test1)"
   ]
  }
 ],
 "metadata": {
  "kernelspec": {
   "display_name": "Python 3",
   "language": "python",
   "name": "python3"
  },
  "language_info": {
   "codemirror_mode": {
    "name": "ipython",
    "version": 3
   },
   "file_extension": ".py",
   "mimetype": "text/x-python",
   "name": "python",
   "nbconvert_exporter": "python",
   "pygments_lexer": "ipython3",
   "version": "3.6.9"
  }
 },
 "nbformat": 4,
 "nbformat_minor": 4
}
